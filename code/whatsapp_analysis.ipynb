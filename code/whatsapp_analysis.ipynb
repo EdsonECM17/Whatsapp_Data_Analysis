{
 "cells": [
  {
   "cell_type": "markdown",
   "metadata": {},
   "source": [
    "# Whatsapp Chat Analysis"
   ]
  },
  {
   "cell_type": "code",
   "execution_count": null,
   "metadata": {},
   "outputs": [],
   "source": [
    "import pandas as pd\n",
    "import re\n",
    "import matplotlib.pyplot as plt\n",
    "import matplotlib.dates as mdates\n",
    "import numpy as np\n",
    "\n",
    "from whatsapp_reader import WhatsappReader\n",
    "\n",
    "import nltk \n",
    "from nltk.tokenize import word_tokenize\n",
    "from nltk.probability import FreqDist\n",
    "from nltk.corpus import stopwords\n",
    "from PIL import Image\n",
    "from wordcloud import WordCloud, STOPWORDS, ImageColorGenerator"
   ]
  },
  {
   "cell_type": "markdown",
   "metadata": {},
   "source": [
    "## Extract Data"
   ]
  },
  {
   "cell_type": "code",
   "execution_count": null,
   "metadata": {},
   "outputs": [],
   "source": [
    "# Define path of whatsapp chat txt file\n",
    "file_path = \"data/random.txt\"\n",
    "OUTPUT_PATH = \"output/\""
   ]
  },
  {
   "cell_type": "code",
   "execution_count": null,
   "metadata": {},
   "outputs": [],
   "source": [
    "# Call class to export chat as df\n",
    "whatsapp_reader = WhatsappReader()\n",
    "chat_df = whatsapp_reader.read_file(file_path)"
   ]
  },
  {
   "cell_type": "code",
   "execution_count": null,
   "metadata": {},
   "outputs": [],
   "source": [
    "chat_df.head(10)"
   ]
  },
  {
   "cell_type": "code",
   "execution_count": null,
   "metadata": {},
   "outputs": [],
   "source": [
    "chat_df.info()"
   ]
  },
  {
   "cell_type": "code",
   "execution_count": null,
   "metadata": {},
   "outputs": [],
   "source": [
    "STICKER_FORMAT = \".webp\"\n",
    "IMAGE_FORMAT = \".jpg\"\n",
    "LINK_FORMAT = \"http\"\n",
    "AUDIO_FORMAT = \".mp3\"\n",
    "UNSPECIFIED_MEDIA = \"Multimedia omitido\"\n",
    "# Add columns indicating if message is a sticker or images\n",
    "chat_df[\"Sticker\"] = chat_df[\"Message\"].apply(lambda x: int(STICKER_FORMAT in x))\n",
    "chat_df[\"Image\"] = chat_df[\"Message\"].apply(lambda x: int(IMAGE_FORMAT in x))\n",
    "chat_df[\"Link\"] = chat_df[\"Message\"].apply(lambda x: int(LINK_FORMAT in x))\n",
    "chat_df[\"Audio\"] = chat_df[\"Message\"].apply(lambda x: int(AUDIO_FORMAT in x))\n",
    "chat_df[\"Unspecified_Media\"] = chat_df[\"Message\"].apply(lambda x: int(UNSPECIFIED_MEDIA in x))\n",
    "# Add word couunt only for text message\n",
    "chat_df[\"Word_Count\"] = chat_df['Message'].apply(lambda x : len(x.split(' ')) if not STICKER_FORMAT in x and not IMAGE_FORMAT in x\n",
    "    and not LINK_FORMAT in x  and not AUDIO_FORMAT in x and not UNSPECIFIED_MEDIA in x else 0)\n",
    "chat_df.head(10)"
   ]
  },
  {
   "cell_type": "code",
   "execution_count": null,
   "metadata": {},
   "outputs": [],
   "source": [
    "total_messages = chat_df.shape[0]\n",
    "print(f\"Total messages: {total_messages}\")\n",
    "image_messages = chat_df[\"Image\"].sum()\n",
    "image_pct = round(chat_df[\"Image\"].mean()*100,2)  # One-hot encoding\n",
    "print(f\"Total images sended: {image_messages}, {image_pct}%\")\n",
    "sticker_messages = chat_df[\"Sticker\"].sum()\n",
    "sticker_pct = round(chat_df[\"Sticker\"].mean()*100,2)  \n",
    "print(f\"Total stickers sended: {sticker_messages}, {sticker_pct}%\")\n",
    "text_messages = total_messages - image_messages - sticker_messages\n",
    "link_messages = chat_df[\"Link\"].sum()\n",
    "link_pct = round(chat_df[\"Link\"].mean()*100,2)  \n",
    "print(f\"Total links sended: {link_messages}, {link_pct}%\")\n",
    "audio_messages = chat_df[\"Audio\"].sum()\n",
    "audio_pct = round(chat_df[\"Audio\"].mean()*100,2)  \n",
    "print(f\"Total audios sended: {audio_messages}, {audio_pct}%\")\n",
    "media_messages = chat_df[\"Unspecified_Media\"].sum()\n",
    "media_pct = round(chat_df[\"Unspecified_Media\"].mean()*100,2)  \n",
    "print(f\"Total unspecified media sended: {media_messages}, {media_pct}%\")\n",
    "text_messages = total_messages - image_messages - sticker_messages - audio_messages - link_messages - media_messages\n",
    "text_pct = round(100 - sticker_pct - image_pct - audio_pct -link_pct - media_pct, 2)\n",
    "print(f\"Total text messages sended: {text_messages}, {text_pct}%\")\n"
   ]
  },
  {
   "cell_type": "code",
   "execution_count": null,
   "metadata": {},
   "outputs": [],
   "source": [
    "text_pct\n",
    "image_pct\n",
    "sticker_pct\n",
    "link_pct\n",
    "audio_pct\n",
    "media_pct\n",
    "\n",
    "# Plot pct of type of messages\n",
    "message_distribution = {\n",
    "    \"Text Messages\": text_pct,\n",
    "    \"Images\": image_pct,\n",
    "    \"Stickers\": sticker_pct,\n",
    "    \"Links\": link_pct,\n",
    "    \"Audios\": audio_pct,\n",
    "    \"Unspecified Media\": media_pct}\n",
    "# Delete zeros\n",
    "message_distribution_fixed = dict(filter(lambda kv: kv[1] != 0, message_distribution.items()))\n",
    "\n",
    "type_message = list(message_distribution_fixed.keys())\n",
    "pct_message = list(message_distribution_fixed.values())\n",
    "  \n",
    "fig = plt.figure(figsize = (10, 5))\n",
    "plt.bar(type_message, pct_message)\n",
    "plt.yticks(np.arange(0, 100, 10))\n",
    " \n",
    "plt.xlabel(\"Message Type\")\n",
    "plt.ylabel(\"% of Messages\")\n",
    "plt.title(\"Message Type Distribution in Whatsapp Chat\")\n",
    "plt.savefig(f\"{OUTPUT_PATH}total_message_distribution.png\")\n",
    "plt.show()"
   ]
  },
  {
   "cell_type": "markdown",
   "metadata": {},
   "source": [
    "## Messages per User"
   ]
  },
  {
   "cell_type": "code",
   "execution_count": null,
   "metadata": {},
   "outputs": [],
   "source": [
    "message_per_author_df = chat_df.groupby(\"Author\").agg(\n",
    "    Message_Count = (\"Message\", \"count\"),\n",
    "    Sticker_Count = (\"Sticker\", \"sum\"),\n",
    "    Image_Count = (\"Image\", \"sum\"),\n",
    "    Audio_Count = (\"Audio\", \"sum\"),\n",
    "    Link_Count = (\"Link\", \"sum\"),\n",
    "    Media_Count = (\"Unspecified_Media\", \"sum\"),\n",
    "    Word_Count_Median = (\"Word_Count\", \"median\")\n",
    ")\n",
    "message_per_author_df.reset_index(inplace=True)"
   ]
  },
  {
   "cell_type": "code",
   "execution_count": null,
   "metadata": {},
   "outputs": [],
   "source": [
    "message_per_author_df"
   ]
  },
  {
   "cell_type": "code",
   "execution_count": null,
   "metadata": {},
   "outputs": [],
   "source": [
    "total_messages\n",
    "def get_percentage(total: int, value: int):\n",
    "    pct_value = round((value/total)*100,2)\n",
    "    return pct_value\n",
    "# Get porcentages\n",
    "message_per_author_df[\"%_Message_from_user\"] = message_per_author_df.apply(lambda row: get_percentage(total_messages, row[\"Message_Count\"]), axis = 1)\n",
    "message_per_author_df[\"%_Sticker_of_user\"] = message_per_author_df.apply(lambda row: get_percentage(row[\"Message_Count\"], row[\"Sticker_Count\"]), axis = 1)\n",
    "message_per_author_df[\"%_Image_of_user\"] = message_per_author_df.apply(lambda row: get_percentage(row[\"Message_Count\"], row[\"Image_Count\"]), axis = 1)\n",
    "message_per_author_df[\"%_Link_of_user\"] = message_per_author_df.apply(lambda row: get_percentage(row[\"Message_Count\"], row[\"Audio_Count\"]), axis = 1)\n",
    "message_per_author_df[\"%_Audio_of_user\"] = message_per_author_df.apply(lambda row: get_percentage(row[\"Message_Count\"], row[\"Link_Count\"]), axis = 1)\n",
    "message_per_author_df[\"%_Media_of_user\"] = message_per_author_df.apply(lambda row: get_percentage(row[\"Message_Count\"], row[\"Media_Count\"]), axis = 1)\n",
    "\n",
    "# Filter % columns of message types\n",
    "filter_cols_pct = [col for col in message_per_author_df if col.endswith('of_user')]\n",
    "filter_cols_pct\n",
    "\n",
    "message_per_author_df[\"%_Text_of_user\"] = message_per_author_df.apply(lambda row : 100 - row[filter_cols_pct].sum(), axis = 1)\n",
    "message_per_author_df[\"Text_Count\"] = message_per_author_df.apply(lambda row: (row[\"Message_Count\"] - row[\"Image_Count\"] - row[\"Sticker_Count\"]\n",
    "    - row[\"Link_Count\"] - row[\"Audio_Count\"] - row[\"Media_Count\"]), axis = 1)\n",
    "\n",
    "message_per_author_df"
   ]
  },
  {
   "cell_type": "code",
   "execution_count": null,
   "metadata": {},
   "outputs": [],
   "source": [
    "def user_stats(row: dict):\n",
    "    stats_user_str = f\"\"\"\n",
    "    User: {row[\"Author\"]}\n",
    "    {\"-\"*40}\n",
    "    Total messages: {row[\"Message_Count\"]}, {row[\"%_Message_from_user\"]}% from total message in the chat.\n",
    "    Stickers sended: {row[\"Sticker_Count\"]}, {row[\"%_Sticker_of_user\"]}% of the user's messages.\n",
    "    Images sended: {row[\"Image_Count\"]}, {row[\"%_Image_of_user\"]}% of the user's messages.\n",
    "    Links sended: {row[\"Link_Count\"]}, {row[\"%_Link_of_user\"]}% of the user's messages.\n",
    "    Audios sended: {row[\"Audio_Count\"]}, {row[\"%_Audio_of_user\"]}% of the user's messages.\n",
    "    Unspecified media sended: {row[\"Media_Count\"]}, {row[\"%_Media_of_user\"]}% of the user's messages.\n",
    "    Texts sended: {row[\"Text_Count\"]}, {row[\"%_Text_of_user\"]}% of the user's messages.\n",
    "    \"\"\"\n",
    "    return stats_user_str\n",
    "\n",
    "summary = message_per_author_df.apply(lambda row: print(user_stats(row)), axis = 1)\n",
    "del summary"
   ]
  },
  {
   "cell_type": "code",
   "execution_count": null,
   "metadata": {},
   "outputs": [],
   "source": []
  },
  {
   "cell_type": "code",
   "execution_count": null,
   "metadata": {},
   "outputs": [],
   "source": [
    "# Plot message\n",
    "summary_author_df = message_per_author_df[[\"Author\", \"Text_Count\", \"Image_Count\", \"Sticker_Count\",\n",
    "    \"Audio_Count\", \"Link_Count\", \"Media_Count\"]]\n",
    "summary_author_df = summary_author_df.rename(columns={\n",
    "    \"Text_Count\":\"Text Messages\",\n",
    "    \"Image_Count\":\"Images\",\n",
    "    \"Sticker_Count\": \"Stickers\",\n",
    "    \"Audio_Count\": \"Audios\",\n",
    "    \"Links_Count\": \"Links\",\n",
    "    \"Media_Count\": \"Unspecified Media\"\n",
    "    })\n",
    "# Delete columns with only zeros\n",
    "summary_author_df = summary_author_df.loc[:, (summary_author_df != 0).any(axis=0)]\n",
    "\n",
    "ax = summary_author_df.plot(kind=\"bar\", x=\"Author\", stacked=True)\n",
    "fig = ax.get_figure()\n",
    "# Change the plot dimensions (width, height)\n",
    "fig.set_size_inches(7, 6)\n",
    "# Fix label x\n",
    "locs, labels = plt.xticks()\n",
    "labels = [label.get_text().replace(\" \", \"\\n\") for label in labels]\n",
    "plt.xticks(np.arange(len(labels)), labels, rotation = 0)\n",
    "# Change the axes labels\n",
    "ax.set_xlabel(\"Authors\")\n",
    "ax.set_ylabel(\"Number of Messages\")\n",
    "ax.set_title(\"Message Type per User\")\n",
    "plt.savefig(f\"{OUTPUT_PATH}user_messages.png\")\n",
    "plt.show()"
   ]
  },
  {
   "cell_type": "code",
   "execution_count": null,
   "metadata": {},
   "outputs": [],
   "source": [
    "# Plot message\n",
    "summary_author_df_pct = message_per_author_df[[\"Author\", \"%_Text_of_user\", \"%_Image_of_user\",\"%_Sticker_of_user\",\n",
    "\"%_Link_of_user\",\"%_Audio_of_user\", \"%_Media_of_user\"]]\n",
    "summary_author_df_pct = summary_author_df_pct.rename(columns={\n",
    "    \"%_Text_of_user\":\"Text Messages\",\n",
    "    \"%_Image_of_user\":\"Images\",\n",
    "    \"%_Sticker_of_user\": \"Stickers\",\n",
    "    \"%_Audio_of_user\": \"Audios\",\n",
    "    \"%_Links_of_user\": \"Links\",\n",
    "    \"%_Media_of_user\": \"Unspecified Media\"\n",
    "    })\n",
    "\n",
    "summary_author_df_pct = summary_author_df_pct.loc[:, (summary_author_df_pct != 0).any(axis=0)]\n",
    "\n",
    "\n",
    "ax = summary_author_df_pct.plot(kind=\"bar\", x=\"Author\")\n",
    "ax.legend(loc='center right', bbox_to_anchor = (1.3, 0.6))\n",
    "fig = ax.get_figure()\n",
    "# Change the plot dimensions (width, height)\n",
    "fig.set_size_inches(7, 6)\n",
    "# Fix label x\n",
    "locs, labels = plt.xticks()\n",
    "labels = [label.get_text().replace(\" \", \"\\n\") for label in labels]\n",
    "plt.xticks(np.arange(len(labels)), labels, rotation = 0)\n",
    "# Change the axes labels\n",
    "ax.set_xlabel(\"Authors\")\n",
    "ax.set_ylabel(\"% of Message Type\")\n",
    "ax.set_title(\"Message Type Distribution per User\")\n",
    "plt.savefig(f\"{OUTPUT_PATH}user_message_distribution.png\")\n",
    "plt.show()"
   ]
  },
  {
   "cell_type": "markdown",
   "metadata": {},
   "source": [
    "## Time Analysis"
   ]
  },
  {
   "cell_type": "code",
   "execution_count": null,
   "metadata": {},
   "outputs": [],
   "source": [
    "# Add new columns\n",
    "# Weekday\n",
    "chat_df[\"Weekday\"] = chat_df[\"Datetime\"].dt.weekday\n",
    "\n",
    "chat_df.tail(5)"
   ]
  },
  {
   "cell_type": "markdown",
   "metadata": {},
   "source": [
    "### By_date"
   ]
  },
  {
   "cell_type": "code",
   "execution_count": null,
   "metadata": {},
   "outputs": [],
   "source": [
    "messages_by_date = chat_df.groupby([chat_df['Datetime'].dt.date]).agg(\n",
    "    Message = (\"Message\", \"count\"),\n",
    "    Sticker = (\"Sticker\", \"sum\"),\n",
    "    Image = (\"Image\", \"sum\"),\n",
    "    Word_Count_Median = (\"Word_Count\", \"median\"),\n",
    "    Weekday = (\"Weekday\",\"max\")\n",
    ")\n",
    "messages_by_date.index = pd.to_datetime(messages_by_date.index)\n",
    "# messages_by_date.index.rename(\"Date\", inplace=True)\n",
    "# messages_by_date.reset_index(inplace=True)\n",
    "messages_by_date.head(10)"
   ]
  },
  {
   "cell_type": "code",
   "execution_count": null,
   "metadata": {},
   "outputs": [],
   "source": [
    "# Add Text Message Column\n",
    "messages_by_date[\"Text Message\"] = messages_by_date[\"Message\"]-messages_by_date[\"Sticker\"]-messages_by_date[\"Image\"]"
   ]
  },
  {
   "cell_type": "code",
   "execution_count": null,
   "metadata": {},
   "outputs": [],
   "source": [
    "# Plot bar chat by date\n",
    "ax = messages_by_date.plot(kind=\"line\",\n",
    "    y=[\"Text Message\", \"Sticker\", \"Image\"])\n",
    "\n",
    "fig = ax.get_figure()\n",
    "# Change the plot dimensions (width, height)\n",
    "fig.set_size_inches(10, 7)\n",
    "# Set legend\n",
    "ax.legend(loc='center right', bbox_to_anchor = (1.2, 0.6))\n",
    "# Update axis\n",
    "# ax.xaxis.set_major_locator(mdates.DayLocator(interval=1))\n",
    "# Change the axis labels\n",
    "ax.set_xlabel(\"Date\")\n",
    "ax.set_ylabel(\"Number of Message\")\n",
    "ax.set_title(\"Messages per Date\")\n",
    "plt.savefig(f\"{OUTPUT_PATH}messages_per_date.png\")\n",
    "plt.show()"
   ]
  },
  {
   "cell_type": "markdown",
   "metadata": {},
   "source": [
    "### Per Month"
   ]
  },
  {
   "cell_type": "code",
   "execution_count": null,
   "metadata": {},
   "outputs": [],
   "source": [
    "messages_by_date\n",
    "messages_by_month = messages_by_date.groupby(pd.Grouper(freq='M')).agg(\n",
    "        Message = (\"Message\", \"sum\"),\n",
    "        Sticker = (\"Sticker\", \"sum\"),\n",
    "        Image = (\"Image\", \"sum\"),\n",
    "        Text = (\"Text Message\", \"sum\"),\n",
    "        Word_Count_Median = (\"Word_Count_Median\", \"median\")\n",
    ")\n",
    "# messages_by_month.index.rename([\"Year\", \"Month\"], inplace=True)\n",
    "messages_by_month"
   ]
  },
  {
   "cell_type": "code",
   "execution_count": null,
   "metadata": {},
   "outputs": [],
   "source": [
    "# Plot bar chat by date\n",
    "ax = messages_by_month.plot(kind=\"line\",\n",
    "    y=[\"Text\", \"Sticker\", \"Image\"])\n",
    "\n",
    "fig = ax.get_figure()\n",
    "# Change the plot dimensions (width, height)\n",
    "fig.set_size_inches(10, 7)\n",
    "# Set legend\n",
    "ax.legend(loc='center right', bbox_to_anchor = (1.2, 0.6))\n",
    "# Update axis\n",
    "# ax.xaxis.set_major_locator(mdates.DayLocator(interval=1))\n",
    "# Change the axis labels\n",
    "ax.set_xlabel(\"Month\")\n",
    "ax.set_ylabel(\"Number of Message\")\n",
    "ax.set_title(\"Messages per Month\")\n",
    "plt.savefig(f\"{OUTPUT_PATH}messages_per_month.png\")\n",
    "plt.show()"
   ]
  },
  {
   "cell_type": "markdown",
   "metadata": {},
   "source": [
    "### Per Weekday"
   ]
  },
  {
   "cell_type": "code",
   "execution_count": null,
   "metadata": {},
   "outputs": [],
   "source": [
    "messages_by_date\n",
    "messages_by_weekday = messages_by_date.groupby(\"Weekday\").agg(\n",
    "        Message = (\"Message\", \"mean\"),\n",
    "        Sticker = (\"Sticker\", \"mean\"),\n",
    "        Image = (\"Image\", \"mean\"),\n",
    "        Text = (\"Text Message\", \"mean\"),\n",
    "        Word_Count_Median = (\"Word_Count_Median\", \"mean\")\n",
    ")\n",
    "# messages_by_month.index.rename([\"Year\", \"Month\"], inplace=True)\n",
    "messages_by_weekday"
   ]
  },
  {
   "cell_type": "code",
   "execution_count": null,
   "metadata": {},
   "outputs": [],
   "source": [
    "# Plot message by week\n",
    "ax = messages_by_weekday.plot(kind=\"bar\",\n",
    "    y=[\"Text\", \"Sticker\", \"Image\"])\n",
    "fig = ax.get_figure()\n",
    "# Change the plot dimensions (width, height)\n",
    "fig.set_size_inches(7, 6)\n",
    "# Fix label x\n",
    "locs, labels = plt.xticks()\n",
    "labels = [label.get_text().replace(\" \", \"\\n\") for label in labels]\n",
    "plt.xticks(np.arange(len(labels)), labels, rotation = 0)\n",
    "# Change the axes labels\n",
    "ax.set_xlabel(\"Weekday\")\n",
    "ax.set_ylabel(\"Mean Number of Messages\")\n",
    "ax.set_title(\"Message Mean per Weekday\")\n",
    "plt.savefig(f\"{OUTPUT_PATH}message_by_weekday.png\")\n",
    "plt.show()"
   ]
  },
  {
   "cell_type": "markdown",
   "metadata": {},
   "source": [
    "## Conversation starters"
   ]
  },
  {
   "cell_type": "code",
   "execution_count": null,
   "metadata": {},
   "outputs": [],
   "source": [
    "HOURS_TO_START = 10"
   ]
  },
  {
   "cell_type": "code",
   "execution_count": null,
   "metadata": {},
   "outputs": [],
   "source": [
    "# Hours between messages\n",
    "chat_df[\"Diff_Hour\"] = round((chat_df[\"Datetime\"]-chat_df[\"Datetime\"].shift())/pd.Timedelta('1 hour'), 2)\n",
    "chat_df.fillna(0, inplace=True)"
   ]
  },
  {
   "cell_type": "code",
   "execution_count": null,
   "metadata": {},
   "outputs": [],
   "source": [
    "# Filter conversations starts\n",
    "conversation_starts_df = chat_df[chat_df[\"Diff_Hour\"]>=HOURS_TO_START]"
   ]
  },
  {
   "cell_type": "code",
   "execution_count": null,
   "metadata": {},
   "outputs": [],
   "source": [
    "conversation_starts_df"
   ]
  },
  {
   "cell_type": "code",
   "execution_count": null,
   "metadata": {},
   "outputs": [],
   "source": [
    "conversation_starts_author = conversation_starts_df.groupby(\"Author\").agg(\n",
    "    Message = (\"Message\", \"count\"),\n",
    ")\n",
    "conversation_starts_author[\"Percentage\"] = round((\n",
    "    conversation_starts_author[\"Message\"]/conversation_starts_author[\"Message\"].sum()\n",
    "    )*100, 2)\n",
    "conversation_starts_author.reset_index(inplace=True)\n",
    "conversation_starts_author"
   ]
  },
  {
   "cell_type": "code",
   "execution_count": null,
   "metadata": {},
   "outputs": [],
   "source": [
    "# Plot conversation_starters\n",
    "ax = conversation_starts_author.plot(kind=\"bar\",\n",
    "    x=\"Author\",\n",
    "    y=[\"Percentage\"],\n",
    "    legend = None)\n",
    "fig = ax.get_figure()\n",
    "# Change the plot dimensions (width, height)\n",
    "fig.set_size_inches(7, 6)\n",
    "# Fix label x\n",
    "locs, labels = plt.xticks()\n",
    "labels = [label.get_text().replace(\" \", \"\\n\") for label in labels]\n",
    "plt.xticks(np.arange(len(labels)), labels, rotation = 0)\n",
    "# Change the axes labels\n",
    "ax.set_xlabel(\"Author\")\n",
    "ax.set_ylabel(\"% of Conversation Starts\")\n",
    "ax.set_title(\"Conversation Starts by Author\")\n",
    "plt.savefig(f\"{OUTPUT_PATH}conversation_starters.png\")\n",
    "plt.show()"
   ]
  },
  {
   "cell_type": "markdown",
   "metadata": {},
   "source": [
    "## Text Analysis"
   ]
  },
  {
   "cell_type": "code",
   "execution_count": null,
   "metadata": {},
   "outputs": [],
   "source": [
    "messages_words = chat_df[(chat_df[\"Sticker\"] == 0) & (chat_df[\"Image\"] == 0)\n",
    "        & (chat_df[\"Link\"] == 0) & (chat_df[\"Audio\"] == 0) & (chat_df[\"Unspecified_Media\"] == 0)][\n",
    "                [\"Author\", \"Message\"]].copy(deep=True)\n",
    "messages_words.head(5)"
   ]
  },
  {
   "cell_type": "code",
   "execution_count": null,
   "metadata": {},
   "outputs": [],
   "source": [
    "stop_words = set(stopwords.words('spanish'))"
   ]
  },
  {
   "cell_type": "code",
   "execution_count": null,
   "metadata": {},
   "outputs": [],
   "source": [
    "tokenizer = nltk.RegexpTokenizer(r\"\\w+\")"
   ]
  },
  {
   "cell_type": "code",
   "execution_count": null,
   "metadata": {},
   "outputs": [],
   "source": [
    "messages_words[\"Message\"] = (messages_words[\"Message\"]\n",
    "                           .str.lower()\n",
    "                           .apply(lambda x: tokenizer.tokenize(x)) # Creates lists\n",
    "                           .apply(lambda x: [item for item in x if item not in stop_words])\n",
    "                           .explode()\n",
    "                           .reset_index(drop=True)\n",
    "                 )\n",
    "messages_words.sample(10)"
   ]
  },
  {
   "cell_type": "code",
   "execution_count": null,
   "metadata": {},
   "outputs": [],
   "source": [
    "# Clean words\n",
    "messages_words[\"Message\"] = (messages_words[\"Message\"]\n",
    "                            .apply(lambda x: \":v\" if x == \"v\" else x)\n",
    "                            .apply(lambda x: \":c\" if x == \"c\" else x)\n",
    "                            .str.replace(r\"(a|j)?(jaja)+(a|j)?\\w*\", \"jaja\", regex=True)\n",
    "                            .str.replace(r\"(e|j)?(jeje)+(e|j)?\\w*\", \"jaja\", regex=True)           \n",
    ")"
   ]
  },
  {
   "cell_type": "code",
   "execution_count": null,
   "metadata": {},
   "outputs": [],
   "source": [
    "messages_words.rename(columns = {\"Message\": \"Word\"}, inplace = True)"
   ]
  },
  {
   "cell_type": "markdown",
   "metadata": {},
   "source": [
    "### Word in Entire Chat"
   ]
  },
  {
   "cell_type": "code",
   "execution_count": null,
   "metadata": {},
   "outputs": [],
   "source": [
    "words_count = messages_words.groupby(\"Word\").agg(\n",
    "    Count = (\"Word\", \"count\")\n",
    ").sort_values(\"Count\", ascending = False).reset_index()\n",
    "words_count.head(20)"
   ]
  },
  {
   "cell_type": "code",
   "execution_count": null,
   "metadata": {},
   "outputs": [],
   "source": [
    "# Plot conversation_starters\n",
    "ax = words_count.head(10).plot(kind=\"bar\",\n",
    "    x=\"Word\",\n",
    "    y=\"Count\",\n",
    "    color = \"green\",\n",
    "    legend = None)\n",
    "fig = ax.get_figure()\n",
    "# Change the plot dimensions (width, height)\n",
    "fig.set_size_inches(7, 6)\n",
    "# Fix label x\n",
    "locs, labels = plt.xticks()\n",
    "labels = [label.get_text().replace(\" \", \"\\n\") for label in labels]\n",
    "plt.xticks(np.arange(len(labels)), labels, rotation = 0)\n",
    "# Change the axes labels\n",
    "ax.set_xlabel(\"Word\")\n",
    "ax.set_ylabel(\"Number of Appearances\")\n",
    "ax.set_title(\"Most Common Words in Chat\")\n",
    "plt.savefig(f\"{OUTPUT_PATH}common_word_chat.png\")\n",
    "plt.show()"
   ]
  },
  {
   "cell_type": "code",
   "execution_count": null,
   "metadata": {},
   "outputs": [],
   "source": [
    "# Start with one review:\n",
    "# text = words_count[\"Word\"].str.cat(sep= \" \")\n",
    "word_frecuency = dict(zip(words_count[\"Word\"], words_count[\"Count\"]))\n",
    "\n",
    "# Create and generate a word cloud image:\n",
    "# wordcloud = WordCloud().generate(text)\n",
    "wordcloud = WordCloud(width=800, height=400).generate_from_frequencies(frequencies=word_frecuency)\n",
    "\n",
    "# Display the generated image:\n",
    "plt.imshow(wordcloud, interpolation='bilinear')\n",
    "plt.axis(\"off\")\n",
    "plt.show()\n",
    "wordcloud.to_file(f\"{OUTPUT_PATH}common_word_chat_wordcloud.png\")"
   ]
  },
  {
   "cell_type": "markdown",
   "metadata": {},
   "source": [
    "### Words per user"
   ]
  },
  {
   "cell_type": "code",
   "execution_count": null,
   "metadata": {},
   "outputs": [],
   "source": [
    "words_count_author = messages_words.groupby([\"Author\",\"Word\"]).agg(\n",
    "    Count = (\"Word\", \"count\")\n",
    ").sort_values(\"Count\", ascending = False).reset_index()\n",
    "words_count_author.head(5)"
   ]
  },
  {
   "cell_type": "code",
   "execution_count": null,
   "metadata": {},
   "outputs": [],
   "source": [
    "def words_stats_per_user(word_authors_df, top:int = 5):\n",
    "    chat_authors = list(word_authors_df[\"Author\"].unique())\n",
    "    print(\"Most common words by author\")\n",
    "    print(f\"{'-'*30}\")\n",
    "    for author in chat_authors:\n",
    "        author_word_df = word_authors_df[word_authors_df[\"Author\"] == author].head(top)\n",
    "        authors_top_words = list(author_word_df[\"Word\"].unique())\n",
    "        print(f\"{author}: {authors_top_words}\")\n",
    "\n",
    "words_stats_per_user(words_count_author)"
   ]
  }
 ],
 "metadata": {
  "interpreter": {
   "hash": "8aa75e81a081a4b7ce71c8220f178edbbf1cadb24518da90c27e23736afe15a4"
  },
  "kernelspec": {
   "display_name": "Python 3.8.8 ('jenv': venv)",
   "language": "python",
   "name": "python3"
  },
  "language_info": {
   "codemirror_mode": {
    "name": "ipython",
    "version": 3
   },
   "file_extension": ".py",
   "mimetype": "text/x-python",
   "name": "python",
   "nbconvert_exporter": "python",
   "pygments_lexer": "ipython3",
   "version": "3.8.8"
  },
  "orig_nbformat": 4
 },
 "nbformat": 4,
 "nbformat_minor": 2
}
