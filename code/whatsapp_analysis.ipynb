{
 "cells": [
  {
   "cell_type": "markdown",
   "metadata": {},
   "source": [
    "# Whatsapp Chat Analysis"
   ]
  },
  {
   "cell_type": "markdown",
   "metadata": {},
   "source": [
    "This notebook analyses a Whatsapp chat in order to get insights from the amount and content of messages."
   ]
  },
  {
   "cell_type": "code",
   "execution_count": null,
   "metadata": {},
   "outputs": [],
   "source": [
    "import pandas as pd\n",
    "import numpy as np\n",
    "import matplotlib.pyplot as plt\n",
    "import nltk \n",
    "\n",
    "from nltk.corpus import stopwords\n",
    "from wordcloud import WordCloud\n",
    "\n",
    "from whatsapp_reader import WhatsappReader"
   ]
  },
  {
   "cell_type": "markdown",
   "metadata": {},
   "source": [
    "## Data Extraction"
   ]
  },
  {
   "cell_type": "markdown",
   "metadata": {},
   "source": [
    "The messages are obtained from a *.txt* file generated when exporting the chat from the application. To read the file, the path is specified in the variable *file_path*.\n",
    "\n",
    "A class called **WhatsappReader** was created to process the texfile and return a pandas dataframe. The table has three columns: \n",
    "\n",
    "* Datetime (datetime): Moment the message was sent in localtime.\n",
    "* Author (str): Name of the person who sent the message.\n",
    "* Message (str): Content of the message."
   ]
  },
  {
   "cell_type": "code",
   "execution_count": null,
   "metadata": {},
   "outputs": [],
   "source": [
    "# Define path of whatsapp chat txt file\n",
    "file_path = \"data/demo.txt\"\n",
    "# Define constants\n",
    "OUTPUT_PATH = \"output/\" # To store images\n",
    "SAMPLE_SIZE = 5 # To show rows of table"
   ]
  },
  {
   "cell_type": "code",
   "execution_count": null,
   "metadata": {},
   "outputs": [],
   "source": [
    "# Call class to export chat as df\n",
    "whatsapp_reader = WhatsappReader()\n",
    "chat_df = whatsapp_reader.read_file(file_path)\n",
    "chat_df.sample(SAMPLE_SIZE)"
   ]
  },
  {
   "cell_type": "code",
   "execution_count": null,
   "metadata": {},
   "outputs": [],
   "source": [
    "chat_df.info()"
   ]
  },
  {
   "cell_type": "markdown",
   "metadata": {},
   "source": [
    "## Chat Content "
   ]
  },
  {
   "cell_type": "markdown",
   "metadata": {},
   "source": [
    "The first step of analysis explore the total and types of messages sended in the Whatsapp chat. There is also a exploration of how much words does the messages usually have.\n",
    "\n",
    "All messages are classified in a specific type of data, and results are stored in binary columns. The messages types included in analysis are: \n",
    "\n",
    "- Texts: Plain text\n",
    "- Links: Message with an url.\n",
    "- Images: png images (for example: photos, memes, flyers, etc.)\n",
    "- Audios: mp3 files in chat.\n",
    "- Stickers: Wepb files.\n",
    "- Media: Non specified media file (Audios + Images + Stickers). When exporting a full chat without files, media type if not specified.\n",
    "\n",
    "The function *get_message_type()* is used to indentify to which category does the message belongs. Results are then added to the main table. "
   ]
  },
  {
   "cell_type": "code",
   "execution_count": null,
   "metadata": {},
   "outputs": [],
   "source": [
    "def get_message_type(message:str) -> str:\n",
    "    # Define media message formats\n",
    "    STICKER_FORMAT = \".webp\"\n",
    "    IMAGE_FORMAT = \".jpg\"\n",
    "    LINK_FORMAT = \"http\"\n",
    "    AUDIO_FORMAT = \".mp3\"\n",
    "    UNSPECIFIED_MEDIA = \"Multimedia omitido\"\n",
    "    # Validate if message belongs to category\n",
    "    if STICKER_FORMAT in message:\n",
    "        message_type = \"Sticker\"\n",
    "    elif IMAGE_FORMAT in message:\n",
    "        message_type = \"Image\"\n",
    "    elif LINK_FORMAT in message:\n",
    "        message_type = \"Link\"\n",
    "    elif AUDIO_FORMAT in message:\n",
    "        message_type = \"Audio\"\n",
    "    elif UNSPECIFIED_MEDIA in message:\n",
    "        message_type = \"Media\" # Unspecified media type\n",
    "    else:\n",
    "        message_type = \"Text\"\n",
    "    return message_type\n",
    "\n",
    "# Get column of message types\n",
    "message_type_df = chat_df[\"Message\"].apply(lambda message: get_message_type(message))\n",
    "# Add one-hot encondig message types to messages df\n",
    "chat_df = pd.concat([chat_df, pd.get_dummies(message_type_df)], axis = 1)"
   ]
  },
  {
   "cell_type": "markdown",
   "metadata": {},
   "source": [
    "The words per message are obtained and included in the main table."
   ]
  },
  {
   "cell_type": "code",
   "execution_count": null,
   "metadata": {},
   "outputs": [],
   "source": [
    "# Apply function if message is text type\n",
    "chat_df[\"Word_Count\"] = chat_df.apply(lambda row: len(row[\"Message\"].split(' ')) if row[\"Text\"] > 0 else 0, axis = 1)\n",
    "chat_df.sample(SAMPLE_SIZE)"
   ]
  },
  {
   "cell_type": "markdown",
   "metadata": {},
   "source": [
    "To process only the message types included in the chat, these types are stored in the variable *message_type_list*."
   ]
  },
  {
   "cell_type": "code",
   "execution_count": null,
   "metadata": {},
   "outputs": [],
   "source": [
    "# Get list of message_types columns for chat\n",
    "message_type_list = list(chat_df.columns)[3:-1] # Only message types columns\n",
    "message_type_list.reverse() # Text Column first\n",
    "message_type_list"
   ]
  },
  {
   "cell_type": "markdown",
   "metadata": {},
   "source": [
    "From each type of message, the total messages and obtained as a int value and a percentage of entire conversation.\n",
    "\n",
    "The results are summarized in a string a chart."
   ]
  },
  {
   "cell_type": "code",
   "execution_count": null,
   "metadata": {},
   "outputs": [],
   "source": [
    "message_type_list\n",
    "chat_df\n",
    "# Init dict to store pcts\n",
    "message_type_count = {}\n",
    "message_type_pct = {}\n",
    "# Print total messages in chat\n",
    "total_messages = chat_df.shape[0]\n",
    "print(f\"Total messages: {total_messages}\")\n",
    "\n",
    "for message_type in message_type_list:\n",
    "    count_value = chat_df[message_type].sum()\n",
    "    pct_value = round(chat_df[message_type].mean()*100,2)\n",
    "    # Store values in dicts\n",
    "    message_type_count[message_type] = count_value\n",
    "    message_type_pct[message_type] = pct_value\n",
    "    # Print result\n",
    "    print(f\"Total {message_type} Sended: {count_value}, {pct_value}%\")\n"
   ]
  },
  {
   "cell_type": "code",
   "execution_count": null,
   "metadata": {},
   "outputs": [],
   "source": [
    "message_type_pct\n",
    "# Delete zeros\n",
    "message_distribution_fixed = dict(filter(lambda kv: kv[1] != 0, message_type_pct.items()))\n",
    "type_message = list(message_distribution_fixed.keys())\n",
    "pct_message = list(message_distribution_fixed.values())\n",
    "# Plot message_distribution\n",
    "fig = plt.figure(figsize = (10, 5))\n",
    "plt.pie(pct_message, labels = type_message, autopct='%1.0f%%', radius=1.2)\n",
    "#plt.yticks(np.arange(0, 100, 10))\n",
    "fig.set_facecolor(\"white\")\n",
    "#plt.xlabel(\"Message Type\")\n",
    "#plt.ylabel(\"% of Messages\")\n",
    "plt.title(\"Message Type Distribution in Whatsapp Chat\")\n",
    "plt.savefig(f\"{OUTPUT_PATH}total_message_distribution.png\")\n",
    "plt.show()"
   ]
  },
  {
   "cell_type": "markdown",
   "metadata": {},
   "source": [
    "The distribution of message per word is repesented as a boxplot chart."
   ]
  },
  {
   "cell_type": "code",
   "execution_count": null,
   "metadata": {},
   "outputs": [],
   "source": [
    "# Plot word_count distribution (no outliers)\n",
    "boxplot = chat_df.boxplot(column = \"Word_Count\", showfliers=False, grid=False)\n",
    "boxplot.plot()\n",
    "#plt.xlabel(\"Message Type\")\n",
    "plt.ylabel(\"Number of Words\")\n",
    "plt.title(\"Words Per Message in Whatsapp Chat\")\n",
    "plt.savefig(f\"{OUTPUT_PATH}word_count_total.png\")\n",
    "plt.show()"
   ]
  },
  {
   "cell_type": "markdown",
   "metadata": {},
   "source": [
    "## Messages per User"
   ]
  },
  {
   "cell_type": "markdown",
   "metadata": {},
   "source": [
    "Data is grouped by author.\n",
    "\n",
    "From the total messages in the chat and total messages per author, a percentage is obtained.\n",
    "\n",
    "Other percentage valued included indicade of how much messages from the author belongs to each message type."
   ]
  },
  {
   "cell_type": "code",
   "execution_count": null,
   "metadata": {},
   "outputs": [],
   "source": [
    "message_type_list\n",
    "# GROUP DATA BY AUTHOR\n",
    "# Create function list per author in dict form\n",
    "functions_per_author = {\"Message\": [\"count\"],\n",
    "    \"Word_Count\": [\"median\"]}\n",
    "for message_type in message_type_list:\n",
    "    functions_per_author[message_type] = [\"sum\"]\n",
    "# Group by author\n",
    "message_per_author_df = chat_df.groupby(\"Author\").agg(functions_per_author)\n",
    "# Update rows and columns\n",
    "message_per_author_df.reset_index(inplace=True)\n",
    "message_per_author_df.columns = message_per_author_df.columns.droplevel(1)\n",
    "# Change dtype\n",
    "message_per_author_df = message_per_author_df.convert_dtypes()\n",
    "\n",
    "message_per_author_df.head(SAMPLE_SIZE)"
   ]
  },
  {
   "cell_type": "code",
   "execution_count": null,
   "metadata": {},
   "outputs": [],
   "source": [
    "# Function to obtain pct\n",
    "def get_percentage(total: int, case_value: int):\n",
    "    pct_value = round((case_value/total)*100, 2)\n",
    "    return pct_value\n",
    "\n",
    "get_percentage(15, 2)"
   ]
  },
  {
   "cell_type": "code",
   "execution_count": null,
   "metadata": {},
   "outputs": [],
   "source": [
    "total_messages\n",
    "message_type_list\n",
    "# ADD NEW COLUMNS\n",
    "# Obtain message contribution % in chat\n",
    "message_per_author_df[\"Message_Contribution\"] = message_per_author_df.apply(\n",
    "    lambda row: get_percentage(total_messages, row[\"Message\"]), axis = 1)\n",
    "# Add % of user message types\n",
    "for message_type in message_type_list:\n",
    "    message_per_author_df[f\"%_{message_type}\"] = message_per_author_df.apply(\n",
    "        lambda row: get_percentage(row[\"Message\"], row[message_type]), axis = 1)\n",
    "    \n",
    "message_per_author_df.head(SAMPLE_SIZE)"
   ]
  },
  {
   "cell_type": "markdown",
   "metadata": {},
   "source": [
    "Results are summarized in a string per author in a format defined in the function *user_stats()*"
   ]
  },
  {
   "cell_type": "code",
   "execution_count": null,
   "metadata": {},
   "outputs": [],
   "source": [
    "message_type_list\n",
    "# Message type list\n",
    "def user_stats(row: dict, message_type_list):\n",
    "    stats_user_str = f\"\"\"\n",
    "    User: {row[\"Author\"]}\n",
    "    {\"-\"*40}\n",
    "    Total messages: {row[\"Message\"]}, {row[\"Message_Contribution\"]}% from total message in the chat.\\n\"\"\"\n",
    "    # Get stats per message type of each author\n",
    "    for message_type in message_type_list:\n",
    "        stats_user_str += f\"    {message_type} sended: {row[message_type]}, {row[f'%_{message_type}']}% of the user's messages.\\n\"\n",
    "    return stats_user_str\n",
    "\n",
    "summary = message_per_author_df.apply(lambda row: print(user_stats(row, message_type_list)), axis = 1)\n",
    "del summary"
   ]
  },
  {
   "cell_type": "markdown",
   "metadata": {},
   "source": [
    "The message types and word count are shown in charts."
   ]
  },
  {
   "cell_type": "code",
   "execution_count": null,
   "metadata": {},
   "outputs": [],
   "source": [
    "message_type_list\n",
    "# Plot messages count per author and type\n",
    "summary_author_df = message_per_author_df[[\"Author\"] + message_type_list]\n",
    "summary_author_df = summary_author_df.rename(columns={\n",
    "    \"Text\":\"Text Messages\",\n",
    "    \"Image\":\"Images\",\n",
    "    \"Sticker\": \"Stickers\",\n",
    "    \"Audio\": \"Audios\",\n",
    "    \"Links\": \"Links\",\n",
    "    \"Media\": \"Unspecified Media\"\n",
    "    })\n",
    "# Delete columns with only zeros\n",
    "summary_author_df = summary_author_df.loc[:, (summary_author_df != 0).any(axis=0)]\n",
    "\n",
    "ax = summary_author_df.plot(kind=\"bar\", x=\"Author\", stacked=True)\n",
    "ax.legend(loc='center right', bbox_to_anchor = (1.35, 0.6))\n",
    "fig = ax.get_figure()\n",
    "# Change the plot dimensions (width, height)\n",
    "fig.set_size_inches(7, 6)\n",
    "# Fix label x\n",
    "locs, labels = plt.xticks()\n",
    "labels = [label.get_text().replace(\" \", \"\\n\") for label in labels]\n",
    "plt.xticks(np.arange(len(labels)), labels, rotation = 0)\n",
    "# Change the axes labels\n",
    "ax.set_xlabel(\"Authors\")\n",
    "ax.set_ylabel(\"Number of Messages\")\n",
    "ax.set_title(\"Message Type per User\")\n",
    "plt.savefig(f\"{OUTPUT_PATH}user_messages.png\")\n",
    "plt.show()"
   ]
  },
  {
   "cell_type": "code",
   "execution_count": null,
   "metadata": {},
   "outputs": [],
   "source": [
    "message_per_author_df\n",
    "# Plot messages word_count per author\n",
    "ax = message_per_author_df.plot(kind=\"bar\", x=\"Author\", y=\"Word_Count\",\n",
    "    legend=False, color = \"saddlebrown\")\n",
    "# ax.legend(loc='center right', bbox_to_anchor = (1.35, 0.6))\n",
    "fig = ax.get_figure()\n",
    "# Change the plot dimensions (width, height)\n",
    "fig.set_size_inches(7, 6)\n",
    "# Fix label x\n",
    "locs, labels = plt.xticks()\n",
    "labels = [label.get_text().replace(\" \", \"\\n\") for label in labels]\n",
    "plt.xticks(np.arange(len(labels)), labels, rotation = 0)\n",
    "# Change the axes labels\n",
    "ax.set_xlabel(\"Authors\")\n",
    "ax.set_ylabel(\"Number of Words\")\n",
    "ax.set_title(\"Word per Message of Each User\")\n",
    "plt.savefig(f\"{OUTPUT_PATH}word_count_per_author.png\")\n",
    "plt.show()"
   ]
  },
  {
   "cell_type": "code",
   "execution_count": null,
   "metadata": {},
   "outputs": [],
   "source": [
    "message_type_list\n",
    "# Plot messages count per author and type (in %)\n",
    "summary_author_df_pct = message_per_author_df[[\"Author\"] + [\"%_\" + message_type for message_type in message_type_list]]\n",
    "summary_author_df_pct = summary_author_df_pct.rename(columns={\n",
    "    \"%_Text\":\"Text Messages\",\n",
    "    \"%_Image\":\"Images\",\n",
    "    \"%_Sticker\": \"Stickers\",\n",
    "    \"%_Audio\": \"Audios\",\n",
    "    \"%_Link\": \"Links\",\n",
    "    \"%_Media\": \"Unspecified Media\"\n",
    "    })\n",
    "summary_author_df_pct = summary_author_df_pct.loc[:, (summary_author_df_pct != 0).any(axis=0)]\n",
    "# Configure plot\n",
    "ax = summary_author_df_pct.plot(kind=\"bar\", x=\"Author\")\n",
    "ax.legend(loc='center right', bbox_to_anchor = (1.35, 0.6))\n",
    "fig = ax.get_figure()\n",
    "# Change the plot dimensions (width, height)\n",
    "fig.set_size_inches(7, 6)\n",
    "# Fix label x\n",
    "locs, labels = plt.xticks()\n",
    "labels = [label.get_text().replace(\" \", \"\\n\") for label in labels]\n",
    "plt.xticks(np.arange(len(labels)), labels, rotation = 0)\n",
    "plt.yticks(np.arange(0, 100, 10))\n",
    "# Change the axes labels\n",
    "ax.set_xlabel(\"Authors\")\n",
    "ax.set_ylabel(\"% of Message Type\")\n",
    "ax.set_title(\"Message Type Distribution per User\")\n",
    "plt.savefig(f\"{OUTPUT_PATH}user_message_distribution.png\")\n",
    "plt.show()"
   ]
  },
  {
   "cell_type": "markdown",
   "metadata": {},
   "source": [
    "## Time Analysis"
   ]
  },
  {
   "cell_type": "markdown",
   "metadata": {},
   "source": [
    "By using the datetime column, messages are explored in terms of when the message were sended.\n",
    "\n",
    "The exploration specifies the message type.\n",
    "\n",
    "The data was explore in using different time intervals: \n",
    " - Data\n",
    " - Month\n",
    " - Weekday"
   ]
  },
  {
   "cell_type": "code",
   "execution_count": null,
   "metadata": {},
   "outputs": [],
   "source": [
    "# Add new columns\n",
    "# Weekday\n",
    "chat_df[\"Weekday\"] = chat_df[\"Datetime\"].dt.weekday\n",
    "chat_df.sample(SAMPLE_SIZE)"
   ]
  },
  {
   "cell_type": "markdown",
   "metadata": {},
   "source": [
    "### Per Date"
   ]
  },
  {
   "cell_type": "code",
   "execution_count": null,
   "metadata": {},
   "outputs": [],
   "source": [
    "message_type_list\n",
    "# GROUP DATA BY DATE\n",
    "# Create function list per author in dict form\n",
    "functions_per_date = {\"Message\": [\"count\"],\n",
    "    \"Word_Count\": [\"median\"],\n",
    "    \"Weekday\": [\"max\"]}\n",
    "for message_type in message_type_list:\n",
    "    functions_per_date[message_type] = [\"sum\"]\n",
    "# Group by author\n",
    "messages_by_date = chat_df.groupby([chat_df['Datetime'].dt.date]).agg(functions_per_date)\n",
    "# Conver date to datetime\n",
    "messages_by_date.index = pd.to_datetime(messages_by_date.index)\n",
    "# Update Index\n",
    "messages_by_date.index.rename(\"Date\", inplace=True)\n",
    "messages_by_date.columns = messages_by_date.columns.droplevel(1)\n",
    "# Change dtype\n",
    "messages_by_date = messages_by_date.convert_dtypes()\n",
    "\n",
    "messages_by_date.tail(SAMPLE_SIZE)"
   ]
  },
  {
   "cell_type": "code",
   "execution_count": null,
   "metadata": {},
   "outputs": [],
   "source": [
    "message_type_list\n",
    "# Plot bar chat by date\n",
    "ax = messages_by_date.plot(kind=\"line\",\n",
    "    y=message_type_list)\n",
    "\n",
    "fig = ax.get_figure()\n",
    "# Change the plot dimensions (width, height)\n",
    "fig.set_size_inches(10, 7)\n",
    "# Set legend\n",
    "ax.legend(loc='center right', bbox_to_anchor = (1.15, 0.6))\n",
    "# Update axis\n",
    "# ax.xaxis.set_major_locator(mdates.DayLocator(interval=1))\n",
    "# Change the axis labels\n",
    "ax.set_xlabel(\"Date\")\n",
    "ax.set_ylabel(\"Number of Message\")\n",
    "ax.set_title(\"Messages per Date\")\n",
    "plt.savefig(f\"{OUTPUT_PATH}messages_per_date.png\")\n",
    "plt.show()"
   ]
  },
  {
   "cell_type": "markdown",
   "metadata": {},
   "source": [
    "### Per Month"
   ]
  },
  {
   "cell_type": "code",
   "execution_count": null,
   "metadata": {},
   "outputs": [],
   "source": [
    "messages_by_date.index"
   ]
  },
  {
   "cell_type": "code",
   "execution_count": null,
   "metadata": {},
   "outputs": [],
   "source": [
    "message_type_list\n",
    "# GROUP DATA BY MONTH\n",
    "# Create function list per author in dict form\n",
    "functions_per_month = {\"Message\": [\"sum\"],\n",
    "    \"Word_Count\": [\"median\"]}\n",
    "for message_type in message_type_list:\n",
    "    functions_per_month[message_type] = [\"sum\"]\n",
    "# Group by author\n",
    "messages_by_month = messages_by_date.groupby(pd.Grouper(freq='M')).agg(functions_per_month)\n",
    "# Update Index\n",
    "messages_by_month.index.rename(\"Month\", inplace=True)\n",
    "messages_by_month.columns = messages_by_month.columns.droplevel(1)\n",
    "# Change dtype\n",
    "messages_by_month = messages_by_month.convert_dtypes()\n",
    "\n",
    "messages_by_month.tail(SAMPLE_SIZE)"
   ]
  },
  {
   "cell_type": "code",
   "execution_count": null,
   "metadata": {},
   "outputs": [],
   "source": [
    "message_type_list\n",
    "# Plot bar chat by month\n",
    "ax = messages_by_month.plot(kind=\"line\",\n",
    "    y=message_type_list)\n",
    "\n",
    "fig = ax.get_figure()\n",
    "# Change the plot dimensions (width, height)\n",
    "fig.set_size_inches(10, 7)\n",
    "# Set legend\n",
    "ax.legend(loc='center right', bbox_to_anchor = (1.15, 0.6))\n",
    "# Update axis\n",
    "# ax.xaxis.set_major_locator(mdates.DayLocator(interval=1))\n",
    "# Change the axis labels\n",
    "ax.set_xlabel(\"Month\")\n",
    "ax.set_ylabel(\"Number of Message\")\n",
    "ax.set_title(\"Messages per Month\")\n",
    "plt.savefig(f\"{OUTPUT_PATH}messages_per_month.png\")\n",
    "plt.show()"
   ]
  },
  {
   "cell_type": "markdown",
   "metadata": {},
   "source": [
    "### Per Weekday"
   ]
  },
  {
   "cell_type": "code",
   "execution_count": null,
   "metadata": {},
   "outputs": [],
   "source": [
    "message_type_list\n",
    "# GROUP DATA BY WEEKDAY\n",
    "# Create function list per author in dict form\n",
    "functions_per_weekday = {\"Message\": [\"mean\"],\n",
    "    \"Word_Count\": [\"mean\"]}\n",
    "for message_type in message_type_list:\n",
    "    functions_per_weekday[message_type] = [\"mean\"]\n",
    "# Group by author\n",
    "messages_by_weekday = messages_by_date.groupby(\"Weekday\").agg(functions_per_weekday)\n",
    "\n",
    "# Round values to 2-decimals\n",
    "messages_by_weekday = messages_by_weekday.round(2)  \n",
    "# Update Index\n",
    "messages_by_weekday.index.rename(\"Weekday\", inplace=True)\n",
    "messages_by_weekday.columns = messages_by_weekday.columns.droplevel(1)\n",
    "# Change dtype\n",
    "messages_by_weekday = messages_by_weekday.convert_dtypes()\n",
    "\n",
    "messages_by_weekday.tail(SAMPLE_SIZE)"
   ]
  },
  {
   "cell_type": "code",
   "execution_count": null,
   "metadata": {},
   "outputs": [],
   "source": [
    "message_type_list\n",
    "# Plot message by weekday\n",
    "ax = messages_by_weekday.plot(kind=\"bar\",\n",
    "    y=message_type_list)\n",
    "fig = ax.get_figure()\n",
    "# Change the plot dimensions (width, height)\n",
    "fig.set_size_inches(7, 6)\n",
    "# Fix label x\n",
    "locs, labels = plt.xticks()\n",
    "labels = [label.get_text().replace(\" \", \"\\n\") for label in labels]\n",
    "plt.xticks(np.arange(len(labels)), labels, rotation = 0)\n",
    "# Change the axes labels\n",
    "ax.set_xlabel(\"Weekday\")\n",
    "ax.set_ylabel(\"Mean Number of Messages\")\n",
    "ax.set_title(\"Message Mean per Weekday\")\n",
    "plt.savefig(f\"{OUTPUT_PATH}message_by_weekday.png\")\n",
    "plt.show()"
   ]
  },
  {
   "cell_type": "markdown",
   "metadata": {},
   "source": [
    "## Conversation starters"
   ]
  },
  {
   "cell_type": "markdown",
   "metadata": {},
   "source": [
    "A conversation starter can be defined as a message that resumes the conversation after a long period of time without any new message. \n",
    "\n",
    "\n",
    "To explore the messages which resumes a conversation, these message need to be filtered from the main message table. At first the long period of time is defined in terms of hours in the constant *HOURS_TO_START*. Then the difference of time between the message and the previous message is obtained in the column *Diff_Hour* in terms of hours as well. Messages with a larger diff_hour than the one specified HOUR_TO_START are stored in a new table. All other columns are included."
   ]
  },
  {
   "cell_type": "code",
   "execution_count": null,
   "metadata": {},
   "outputs": [],
   "source": [
    "HOURS_TO_START = 10"
   ]
  },
  {
   "cell_type": "code",
   "execution_count": null,
   "metadata": {},
   "outputs": [],
   "source": [
    "# Hours between messages\n",
    "chat_df[\"Diff_Hour\"] = round((chat_df[\"Datetime\"]-chat_df[\"Datetime\"].shift())/pd.Timedelta('1 hour'), 2)\n",
    "chat_df.fillna(0, inplace=True)"
   ]
  },
  {
   "cell_type": "code",
   "execution_count": null,
   "metadata": {},
   "outputs": [],
   "source": [
    "# Filter conversations starts\n",
    "conversation_starts_df = chat_df[chat_df[\"Diff_Hour\"]>=HOURS_TO_START]\n",
    "conversation_starts_df.head(SAMPLE_SIZE)"
   ]
  },
  {
   "cell_type": "markdown",
   "metadata": {},
   "source": [
    "Total start messages are grouped by author."
   ]
  },
  {
   "cell_type": "code",
   "execution_count": null,
   "metadata": {},
   "outputs": [],
   "source": [
    "conversation_starts_author = conversation_starts_df.groupby(\"Author\").agg(\n",
    "    Message = (\"Message\", \"count\"),\n",
    ")\n",
    "conversation_starts_author[\"Percentage\"] = round((\n",
    "    conversation_starts_author[\"Message\"]/conversation_starts_author[\"Message\"].sum()\n",
    "    )*100, 2)\n",
    "conversation_starts_author.reset_index(inplace=True)\n",
    "conversation_starts_author"
   ]
  },
  {
   "cell_type": "code",
   "execution_count": null,
   "metadata": {},
   "outputs": [],
   "source": [
    "# Plot conversation_starters\n",
    "ax = conversation_starts_author.plot(kind=\"bar\",\n",
    "    x=\"Author\",\n",
    "    y=[\"Message\"],\n",
    "    legend = None)\n",
    "fig = ax.get_figure()\n",
    "# Change the plot dimensions (width, height)\n",
    "fig.set_size_inches(7, 6)\n",
    "# Fix label x\n",
    "locs, labels = plt.xticks()\n",
    "labels = [label.get_text().replace(\" \", \"\\n\") for label in labels]\n",
    "plt.xticks(np.arange(len(labels)), labels, rotation = 0)\n",
    "# Change the axes labels\n",
    "ax.set_xlabel(\"Author\")\n",
    "ax.set_ylabel(\"% of Conversation Starts\")\n",
    "ax.set_title(\"Conversation Starts by Author\")\n",
    "plt.savefig(f\"{OUTPUT_PATH}conversation_starters.png\")\n",
    "plt.show()"
   ]
  },
  {
   "cell_type": "markdown",
   "metadata": {},
   "source": [
    "## Text Analysis"
   ]
  },
  {
   "cell_type": "markdown",
   "metadata": {},
   "source": [
    "Using the nltk toolkit, the words included in message column are processed to identify the frecuency of word in the entire chat and the frecuency of word per author."
   ]
  },
  {
   "cell_type": "code",
   "execution_count": null,
   "metadata": {},
   "outputs": [],
   "source": [
    "messages_words = chat_df[chat_df[\"Text\"] == 1][\n",
    "                [\"Author\", \"Message\"]].copy(deep=True)\n",
    "messages_words.tail(SAMPLE_SIZE)"
   ]
  },
  {
   "cell_type": "code",
   "execution_count": null,
   "metadata": {},
   "outputs": [],
   "source": [
    "# NLTK Configurations\n",
    "# Set stopwords lists\n",
    "stop_words = set(stopwords.words('spanish'))\n",
    "# Set tokenizer to filter words in messages\n",
    "tokenizer = nltk.RegexpTokenizer(r\"\\w+\")"
   ]
  },
  {
   "cell_type": "code",
   "execution_count": null,
   "metadata": {},
   "outputs": [],
   "source": [
    "# Create word df (word per row)\n",
    "messages_words[\"Message\"] = (messages_words[\"Message\"]\n",
    "                           .str.lower()\n",
    "                           .apply(lambda x: tokenizer.tokenize(x)) # Creates lists\n",
    "                           .apply(lambda x: [item for item in x if item not in stop_words])\n",
    "                 )\n",
    "# Explode words into rows\n",
    "messages_words = messages_words.explode(\"Message\").dropna()\n",
    "messages_words.reset_index(drop=True, inplace=True)\n",
    "messages_words.tail(SAMPLE_SIZE)"
   ]
  },
  {
   "cell_type": "markdown",
   "metadata": {},
   "source": [
    "There is additional cleaning for the words included in the *clean_emoji()* and *clean_common_expression()* functions."
   ]
  },
  {
   "cell_type": "code",
   "execution_count": null,
   "metadata": {},
   "outputs": [],
   "source": [
    "def clean_emoji(word_series: \"pd.Series[str]\"):\n",
    "    # Fix emojis\n",
    "    letter_list = [\"p\", \"v\", \"c\", \"s\"]\n",
    "    word_series = (word_series\n",
    "        .apply(lambda word: f\":{word}\" if word in letter_list else word)  # Fix emojis\n",
    "        .str.replace(r\"(x|d)?(xd)+(x|d)?\\w*\", \"xd\", regex=True)\n",
    "        .str.replace(r\"^(dd)+(d)?\\w*\", \"ddd\", regex=True)\n",
    "    )\n",
    "    return word_series\n",
    "\n",
    "def clean_common_expressions(word_series: \"pd.Series[str]\"):\n",
    "    # Clean laughs\n",
    "    word_series[word_series.str.contains(r\"(a|j)?(jaja)+(a|j)?\\w*\", regex=True)] = \"jaja\"\n",
    "    word_series[word_series.str.contains(r\"(e|j)?(jeje)+(e|j)?\\w*\", regex=True)] = \"jaja\"\n",
    "    word_series = (word_series\n",
    "        .str.replace(r\"(w|o)?(wo)+(w|o)?\\w*w$\", \"wow\", regex=True)\n",
    "        .str.replace(r\"^lo\\w*ol$\", \"lol\", regex=True)\n",
    "        .str.replace(r\"(^si).*((i|p)$)\", \"si\", regex=True)\n",
    "        .str.replace(r\"(^y)+(e|u)*((s|p)$)\", \"si\", regex=True)\n",
    "        .str.replace(r\"^naa\", \"no\", regex=True)\n",
    "        .str.replace(r\"^ok\", \"ok\", regex=True)\n",
    "        .str.replace(r\"^(pe)+(e|x)*x$\", \"pex\", regex = True)\n",
    "        .str.replace(r\"(^w)+(e?)*((e|y)$)\", \"wey\", regex = True)\n",
    "        .str.replace(r\"^(yo)o?o$\", \"yo\", regex = True)\n",
    "        .str.replace(r\"^ya\\w*a$\", \"ya\", regex = True)\n",
    "        .str.replace(r\"^(a)+(a|h)\\w*h$\", \"ah\", regex=True)\n",
    "        .str.replace(r\"^(e)+(e|h)\\w*h$\", \"eh\", regex=True)\n",
    "        .str.replace(r\"^(o)+(o|h)\\w*h$\", \"oh\", regex=True)\n",
    "        .str.replace(r\"^j.*lo\", \"jalo\", regex=True)\n",
    "    )\n",
    "    return word_series"
   ]
  },
  {
   "cell_type": "code",
   "execution_count": null,
   "metadata": {},
   "outputs": [],
   "source": [
    "# Clean words in word df\n",
    "messages_words[\"Message\"] = clean_emoji(messages_words[\"Message\"])\n",
    "messages_words[\"Message\"] = clean_common_expressions(messages_words[\"Message\"])"
   ]
  },
  {
   "cell_type": "code",
   "execution_count": null,
   "metadata": {},
   "outputs": [],
   "source": [
    "messages_words.rename(columns = {\"Message\": \"Word\"}, inplace = True)"
   ]
  },
  {
   "cell_type": "markdown",
   "metadata": {},
   "source": [
    "### Words in Entire Chat"
   ]
  },
  {
   "cell_type": "markdown",
   "metadata": {},
   "source": [
    "Once there is a word dataframe, a new table is created grouping the data by word, and frencuency is obtained."
   ]
  },
  {
   "cell_type": "code",
   "execution_count": null,
   "metadata": {},
   "outputs": [],
   "source": [
    "words_count = messages_words.groupby(\"Word\").agg(\n",
    "    Count = (\"Word\", \"count\")\n",
    ").sort_values(\"Count\", ascending = False).reset_index()\n",
    "words_count.head(SAMPLE_SIZE)"
   ]
  },
  {
   "cell_type": "code",
   "execution_count": null,
   "metadata": {},
   "outputs": [],
   "source": [
    "# Plot conversation_starters\n",
    "ax = words_count.head(15).plot(kind=\"barh\",\n",
    "    x=\"Word\",\n",
    "    y=\"Count\",\n",
    "    color = \"green\",\n",
    "    legend = None)\n",
    "fig = ax.get_figure()\n",
    "# Change the plot dimensions (width, height)\n",
    "fig.set_size_inches(7, 6)\n",
    "# Fix label x\n",
    "locs, labels = plt.yticks()\n",
    "labels = [label.get_text().replace(\" \", \"\\n\") for label in labels]\n",
    "plt.yticks(np.arange(len(labels)), labels, rotation = 0)\n",
    "# Change the axes labels\n",
    "ax.set_ylabel(\"Word\")\n",
    "ax.set_xlabel(\"Number of Appearances\")\n",
    "ax.set_title(\"Most Common Words in Chat\")\n",
    "plt.savefig(f\"{OUTPUT_PATH}common_word_chat.png\")\n",
    "plt.show()"
   ]
  },
  {
   "cell_type": "markdown",
   "metadata": {},
   "source": [
    "A wordcloud image is generated based on the frecuency of words in the chat."
   ]
  },
  {
   "cell_type": "code",
   "execution_count": null,
   "metadata": {},
   "outputs": [],
   "source": [
    "# Start with one review:\n",
    "# text = words_count[\"Word\"].str.cat(sep= \" \")\n",
    "word_frecuency = dict(zip(words_count[\"Word\"], words_count[\"Count\"]))\n",
    "\n",
    "# Create and generate a word cloud image:\n",
    "# wordcloud = WordCloud().generate(text)\n",
    "wordcloud = WordCloud(width=800, height=400).generate_from_frequencies(frequencies=word_frecuency)\n",
    "\n",
    "# Display the generated image:\n",
    "plt.imshow(wordcloud, interpolation='bilinear')\n",
    "plt.axis(\"off\")\n",
    "plt.show()\n",
    "wordcloud.to_file(f\"{OUTPUT_PATH}common_word_chat_wordcloud.png\")"
   ]
  },
  {
   "cell_type": "markdown",
   "metadata": {},
   "source": [
    "### Words per user"
   ]
  },
  {
   "cell_type": "markdown",
   "metadata": {},
   "source": [
    "The difference with the previous analysis is that words are also filtered by *Author* column of the dataframe. Therefore, frecuency is also distributed by author."
   ]
  },
  {
   "cell_type": "code",
   "execution_count": null,
   "metadata": {},
   "outputs": [],
   "source": [
    "words_count_author = messages_words.groupby([\"Author\",\"Word\"]).agg(\n",
    "    Count = (\"Word\", \"count\")\n",
    ").sort_values(\"Count\", ascending = False).reset_index()\n",
    "words_count_author.head(5)"
   ]
  },
  {
   "cell_type": "markdown",
   "metadata": {},
   "source": [
    "The function *word_stats_per_user()* shows a summary of most common word per author in the chat."
   ]
  },
  {
   "cell_type": "code",
   "execution_count": null,
   "metadata": {},
   "outputs": [],
   "source": [
    "def words_stats_per_user(word_authors_df, top:int = 5):\n",
    "    chat_authors = list(word_authors_df[\"Author\"].unique())\n",
    "    print(\"Most common words by author\")\n",
    "    print(f\"{'-'*30}\")\n",
    "    for author in chat_authors:\n",
    "        author_word_df = word_authors_df[word_authors_df[\"Author\"] == author].head(top)\n",
    "        authors_top_words = list(author_word_df[\"Word\"].unique())\n",
    "        print(f\"{author}: {authors_top_words}\")\n",
    "\n",
    "words_stats_per_user(words_count_author, 10)"
   ]
  }
 ],
 "metadata": {
  "interpreter": {
   "hash": "8aa75e81a081a4b7ce71c8220f178edbbf1cadb24518da90c27e23736afe15a4"
  },
  "kernelspec": {
   "display_name": "Python 3.8.8 ('jenv': venv)",
   "language": "python",
   "name": "python3"
  },
  "language_info": {
   "codemirror_mode": {
    "name": "ipython",
    "version": 3
   },
   "file_extension": ".py",
   "mimetype": "text/x-python",
   "name": "python",
   "nbconvert_exporter": "python",
   "pygments_lexer": "ipython3",
   "version": "3.8.8"
  },
  "orig_nbformat": 4
 },
 "nbformat": 4,
 "nbformat_minor": 2
}
